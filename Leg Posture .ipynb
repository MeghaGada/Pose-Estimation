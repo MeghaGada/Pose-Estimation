{
 "cells": [
  {
   "cell_type": "code",
   "execution_count": 19,
   "id": "78aadd46",
   "metadata": {},
   "outputs": [],
   "source": [
    "import mediapipe as mp\n",
    "import cv2\n",
    "import numpy as np\n",
    "import pandas as pd"
   ]
  },
  {
   "cell_type": "code",
   "execution_count": 2,
   "id": "03b2df6f",
   "metadata": {},
   "outputs": [],
   "source": [
    "mp_draw = mp.solutions.drawing_utils\n",
    "mp_pose = mp.solutions.pose"
   ]
  },
  {
   "cell_type": "code",
   "execution_count": 3,
   "id": "fd7affdb",
   "metadata": {},
   "outputs": [],
   "source": [
    "#calculate angle\n",
    "\n",
    "def calculate_angle(a,b,c):\n",
    "    a=np.array(a)\n",
    "    b=np.array(b)\n",
    "    c=np.array(c)\n",
    "    \n",
    "    radians=np.arctan2(c[1]-b[1],c[0]-b[0]) - np.arctan2(a[1]-b[1],a[0]-b[0])\n",
    "    angle=np.abs(radians*180.0/np.pi)\n",
    "    \n",
    "    if angle>180.0:\n",
    "        angle=360-angle\n",
    "    \n",
    "    return angle"
   ]
  },
  {
   "cell_type": "code",
   "execution_count": 10,
   "id": "cd85aa28",
   "metadata": {},
   "outputs": [
    {
     "data": {
      "text/plain": [
       "<module 'mediapipe.python.solutions.pose' from 'C:\\\\Users\\\\megha\\\\anaconda3\\\\lib\\\\site-packages\\\\mediapipe\\\\python\\\\solutions\\\\pose.py'>"
      ]
     },
     "execution_count": 10,
     "metadata": {},
     "output_type": "execute_result"
    }
   ],
   "source": [
    "mp_pose"
   ]
  },
  {
   "cell_type": "code",
   "execution_count": 12,
   "id": "c78c19ef",
   "metadata": {},
   "outputs": [],
   "source": [
    "cap = cv2.VideoCapture(0)\n",
    "with mp_pose.Pose(min_detection_confidence=0.5,min_tracking_confidence=0.5) as pose:\n",
    "    while True:\n",
    "        ret, frame = cap.read()\n",
    "        img = cv2.cvtColor(frame,cv2.COLOR_BGR2RGB)\n",
    "        img.flags.writeable = False\n",
    "        res = pose.process(img)\n",
    "        img.flags.writeable = True\n",
    "        img = cv2.cvtColor(img,cv2.COLOR_RGB2BGR)\n",
    "        #extract landmarks\n",
    "        try:\n",
    "            landmarks = res.pose_landmarks.landmark\n",
    "            \n",
    "            #Get co-ordinates\n",
    "            rt_hip = [landmarks[mp_pose.PoseLandmark.RIGHT_HIP].x,landmarks[mp_pose.PoseLandmark.RIGHT_HIP].y]\n",
    "            rt_knee = [landmarks[mp_pose.PoseLandmark.RIGHT_KNEE].x,landmarks[mp_pose.PoseLandmark.RIGHT_KNEE].y]\n",
    "            rt_toe = [landmarks[mp_pose.PoseLandmark.RIGHT_HEEL].x,landmarks[mp_pose.PoseLandmark.RIGHT_HEEL].y]\n",
    "            \n",
    "            lft_hip = [landmarks[mp_pose.PoseLandmark.LEFT_HIP].x,landmarks[mp_pose.PoseLandmark.LEFT_HIP].y]\n",
    "            lft_knee = [landmarks[mp_pose.PoseLandmark.LEFT_KNEE].x,landmarks[mp_pose.PoseLandmark.LEFT_KNEE].y]\n",
    "            lft_toe = [landmarks[mp_pose.PoseLandmark.LEFT_HEEL].x,landmarks[mp_pose.PoseLandmark.LEFT_HEEL].y]\n",
    "            \n",
    "            #calculate angle\n",
    "            angle = calculate_angle(rt_hip,rt_knee,rt_toe)\n",
    "            cv2.putText(img,str(angle),tuple(np.multiply(lb,[640,480]).astype(int)),\n",
    "                        cv2.FONT_HERSHEY_SIMPLEX,0.5,(255,255,255),2,cv2.LINE_AA\n",
    "                       \n",
    "                       )\n",
    "            angle1 = calculate_angle(lft_hip,lft_knee,lft_toe)\n",
    "            cv2.putText(img,str(angle2),tuple(np.multiply(knee,[640,480]).astype(int)),\n",
    "                        cv2.FONT_HERSHEY_SIMPLEX,0.5,(255,255,255),2,cv2.LINE_AA\n",
    "                       \n",
    "                       )\n",
    "        except:\n",
    "            pass\n",
    "        mp_draw.draw_landmarks(img,res.pose_landmarks,mp_pose.POSE_CONNECTIONS,\n",
    "                             mp_draw.DrawingSpec(color=(245,117,66),thickness=2,\n",
    "                                          circle_radius=2),mp_draw.DrawingSpec(color=(266,167,56),thickness=2,\n",
    "                                          circle_radius=2))\n",
    "        #print(res)\n",
    "        cv2.imshow('mediapipe',img)\n",
    "        key = cv2.waitKey(1) & 0xFF\n",
    "\n",
    "        if key == ord(\"q\"):\n",
    "            break\n",
    "cap.release()\n",
    "cv2.destroyAllWindows()"
   ]
  },
  {
   "cell_type": "code",
   "execution_count": 9,
   "id": "f7d7384f",
   "metadata": {},
   "outputs": [
    {
     "data": {
      "text/plain": [
       "[x: 0.467252641916275\n",
       "y: 0.1733129620552063\n",
       "z: -1.5446255207061768\n",
       "visibility: 0.9981951713562012\n",
       ", x: 0.5016226172447205\n",
       "y: 0.09950016438961029\n",
       "z: -1.480035424232483\n",
       "visibility: 0.9967288374900818\n",
       ", x: 0.5269356369972229\n",
       "y: 0.0975128710269928\n",
       "z: -1.4800868034362793\n",
       "visibility: 0.9964248538017273\n",
       ", x: 0.5497968792915344\n",
       "y: 0.09469398111104965\n",
       "z: -1.4805368185043335\n",
       "visibility: 0.9956784248352051\n",
       ", x: 0.4308268427848816\n",
       "y: 0.10256766527891159\n",
       "z: -1.4795920848846436\n",
       "visibility: 0.9976979494094849\n",
       ", x: 0.41009169816970825\n",
       "y: 0.10505302995443344\n",
       "z: -1.4790329933166504\n",
       "visibility: 0.9980254769325256\n",
       ", x: 0.38791120052337646\n",
       "y: 0.10942798107862473\n",
       "z: -1.4797563552856445\n",
       "visibility: 0.9982465505599976\n",
       ", x: 0.5888645052909851\n",
       "y: 0.11360539495944977\n",
       "z: -0.9209704399108887\n",
       "visibility: 0.9964069128036499\n",
       ", x: 0.3655605912208557\n",
       "y: 0.14225803315639496\n",
       "z: -0.899071991443634\n",
       "visibility: 0.9991282820701599\n",
       ", x: 0.517825186252594\n",
       "y: 0.24697230756282806\n",
       "z: -1.3222557306289673\n",
       "visibility: 0.9990200400352478\n",
       ", x: 0.43183985352516174\n",
       "y: 0.2562662661075592\n",
       "z: -1.3181798458099365\n",
       "visibility: 0.9995971322059631\n",
       ", x: 0.7738611698150635\n",
       "y: 0.45933330059051514\n",
       "z: -0.45260706543922424\n",
       "visibility: 0.9943745136260986\n",
       ", x: 0.21084225177764893\n",
       "y: 0.4741976857185364\n",
       "z: -0.5350152254104614\n",
       "visibility: 0.997510552406311\n",
       ", x: 0.9433622360229492\n",
       "y: 0.894007682800293\n",
       "z: -0.32193294167518616\n",
       "visibility: 0.4903436005115509\n",
       ", x: 0.025133514776825905\n",
       "y: 0.8648167252540588\n",
       "z: -0.677126407623291\n",
       "visibility: 0.7765955924987793\n",
       ", x: 0.8967404365539551\n",
       "y: 1.3237910270690918\n",
       "z: -0.7386545538902283\n",
       "visibility: 0.08641144633293152\n",
       ", x: 0.20643267035484314\n",
       "y: 1.0939990282058716\n",
       "z: -1.5214512348175049\n",
       "visibility: 0.2143244743347168\n",
       ", x: 0.8874047994613647\n",
       "y: 1.4533839225769043\n",
       "z: -0.8632365465164185\n",
       "visibility: 0.07635735720396042\n",
       ", x: 0.2721518576145172\n",
       "y: 1.2240806818008423\n",
       "z: -1.710648775100708\n",
       "visibility: 0.16044273972511292\n",
       ", x: 0.8283149003982544\n",
       "y: 1.4151721000671387\n",
       "z: -0.9076724052429199\n",
       "visibility: 0.10681988298892975\n",
       ", x: 0.32796984910964966\n",
       "y: 1.1542391777038574\n",
       "z: -1.7363418340682983\n",
       "visibility: 0.2072083055973053\n",
       ", x: 0.8189197778701782\n",
       "y: 1.3686854839324951\n",
       "z: -0.7712808847427368\n",
       "visibility: 0.10235700756311417\n",
       ", x: 0.3086701035499573\n",
       "y: 1.07211434841156\n",
       "z: -1.5481926202774048\n",
       "visibility: 0.18349695205688477\n",
       ", x: 0.6887569427490234\n",
       "y: 1.4424512386322021\n",
       "z: -0.0687219426035881\n",
       "visibility: 0.0027979938313364983\n",
       ", x: 0.3249216377735138\n",
       "y: 1.4409483671188354\n",
       "z: 0.07396652549505234\n",
       "visibility: 0.003324038814753294\n",
       ", x: 0.6772169470787048\n",
       "y: 2.2146048545837402\n",
       "z: -0.010290736332535744\n",
       "visibility: 0.004086109343916178\n",
       ", x: 0.3254770338535309\n",
       "y: 2.201355457305908\n",
       "z: -0.05235707014799118\n",
       "visibility: 0.002023546490818262\n",
       ", x: 0.6613250374794006\n",
       "y: 2.9136927127838135\n",
       "z: 0.8328453302383423\n",
       "visibility: 0.00019858821178786457\n",
       ", x: 0.32299870252609253\n",
       "y: 2.9113669395446777\n",
       "z: 0.5481780171394348\n",
       "visibility: 0.00019441886979620904\n",
       ", x: 0.6690656542778015\n",
       "y: 3.0165066719055176\n",
       "z: 0.8689626455307007\n",
       "visibility: 9.836049866862595e-05\n",
       ", x: 0.3223496079444885\n",
       "y: 3.0229108333587646\n",
       "z: 0.584335446357727\n",
       "visibility: 0.0002231581456726417\n",
       ", x: 0.5937617421150208\n",
       "y: 3.1619784832000732\n",
       "z: 0.05112750455737114\n",
       "visibility: 0.00026966442237608135\n",
       ", x: 0.36900973320007324\n",
       "y: 3.148064374923706\n",
       "z: -0.32119619846343994\n",
       "visibility: 0.0005897891824133694\n",
       "]"
      ]
     },
     "execution_count": 9,
     "metadata": {},
     "output_type": "execute_result"
    }
   ],
   "source": [
    "landmarks"
   ]
  },
  {
   "cell_type": "code",
   "execution_count": 14,
   "id": "4773e0de",
   "metadata": {},
   "outputs": [],
   "source": [
    "a =np.multiply(rt_hip,[640,480]).astype(int)\n",
    "b = np.multiply(rt_knee,[640,480]).astype(int)\n",
    "c=np.multiply(rt_toe,[640,480]).astype(int)\n",
    "d=np.multiply(lft_hip,[640,480]).astype(int)\n",
    "e=np.multiply(lft_knee,[640,480]).astype(int)\n",
    "f= np.multiply(lft_toe,[640,480]).astype(int)"
   ]
  },
  {
   "cell_type": "code",
   "execution_count": 17,
   "id": "1a7cad9c",
   "metadata": {},
   "outputs": [],
   "source": [
    "lst =[a,b,c,d,e,f]"
   ]
  },
  {
   "cell_type": "code",
   "execution_count": 20,
   "id": "ea45197c",
   "metadata": {},
   "outputs": [],
   "source": [
    "df= pd.DataFrame(data = lst, columns= [\"x\", \"y\"])"
   ]
  },
  {
   "cell_type": "code",
   "execution_count": 21,
   "id": "38137fe3",
   "metadata": {},
   "outputs": [
    {
     "data": {
      "text/html": [
       "<div>\n",
       "<style scoped>\n",
       "    .dataframe tbody tr th:only-of-type {\n",
       "        vertical-align: middle;\n",
       "    }\n",
       "\n",
       "    .dataframe tbody tr th {\n",
       "        vertical-align: top;\n",
       "    }\n",
       "\n",
       "    .dataframe thead th {\n",
       "        text-align: right;\n",
       "    }\n",
       "</style>\n",
       "<table border=\"1\" class=\"dataframe\">\n",
       "  <thead>\n",
       "    <tr style=\"text-align: right;\">\n",
       "      <th></th>\n",
       "      <th>x</th>\n",
       "      <th>y</th>\n",
       "    </tr>\n",
       "  </thead>\n",
       "  <tbody>\n",
       "    <tr>\n",
       "      <th>0</th>\n",
       "      <td>229</td>\n",
       "      <td>743</td>\n",
       "    </tr>\n",
       "    <tr>\n",
       "      <th>1</th>\n",
       "      <td>209</td>\n",
       "      <td>1141</td>\n",
       "    </tr>\n",
       "    <tr>\n",
       "      <th>2</th>\n",
       "      <td>201</td>\n",
       "      <td>1534</td>\n",
       "    </tr>\n",
       "    <tr>\n",
       "      <th>3</th>\n",
       "      <td>454</td>\n",
       "      <td>750</td>\n",
       "    </tr>\n",
       "    <tr>\n",
       "      <th>4</th>\n",
       "      <td>436</td>\n",
       "      <td>1151</td>\n",
       "    </tr>\n",
       "    <tr>\n",
       "      <th>5</th>\n",
       "      <td>417</td>\n",
       "      <td>1552</td>\n",
       "    </tr>\n",
       "  </tbody>\n",
       "</table>\n",
       "</div>"
      ],
      "text/plain": [
       "     x     y\n",
       "0  229   743\n",
       "1  209  1141\n",
       "2  201  1534\n",
       "3  454   750\n",
       "4  436  1151\n",
       "5  417  1552"
      ]
     },
     "execution_count": 21,
     "metadata": {},
     "output_type": "execute_result"
    }
   ],
   "source": [
    "df"
   ]
  },
  {
   "cell_type": "code",
   "execution_count": 22,
   "id": "ba1b4af6",
   "metadata": {},
   "outputs": [],
   "source": [
    "df.to_excel('Leg Posture.xlsx')"
   ]
  },
  {
   "cell_type": "code",
   "execution_count": 24,
   "id": "a56f4f15",
   "metadata": {},
   "outputs": [
    {
     "data": {
      "text/plain": [
       "array([229, 743])"
      ]
     },
     "execution_count": 24,
     "metadata": {},
     "output_type": "execute_result"
    }
   ],
   "source": [
    "landmarks[mp_pose.PoseLandmark.RIGHT_HIP]\n",
    "np.multiply(rt_hip,[640,480]).astype(int)"
   ]
  },
  {
   "cell_type": "code",
   "execution_count": null,
   "id": "6dd22888",
   "metadata": {},
   "outputs": [],
   "source": []
  }
 ],
 "metadata": {
  "kernelspec": {
   "display_name": "Python 3",
   "language": "python",
   "name": "python3"
  },
  "language_info": {
   "codemirror_mode": {
    "name": "ipython",
    "version": 3
   },
   "file_extension": ".py",
   "mimetype": "text/x-python",
   "name": "python",
   "nbconvert_exporter": "python",
   "pygments_lexer": "ipython3",
   "version": "3.8.8"
  }
 },
 "nbformat": 4,
 "nbformat_minor": 5
}
